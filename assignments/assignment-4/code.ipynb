{
 "cells": [
  {
   "cell_type": "markdown",
   "metadata": {
    "vscode": {
     "languageId": "raw"
    }
   },
   "source": [
    "# Agentic AI Assignment 4: Multi-Agent System with Supervisor Node\n",
    "\n",
    "This notebook implements a sophisticated multi-agent system with the following components:\n",
    "- **Supervisor Node**: Central orchestrator that decides which agent to call\n",
    "- **Router Function**: Routes requests to appropriate specialized agents\n",
    "- **LLM Node**: Handles general language model queries\n",
    "- **RAG Node**: Retrieves and processes information from knowledge bases\n",
    "- **Web Crawler Node**: Fetches real-time information from the internet\n",
    "- **Validation Node**: Validates output quality and triggers re-processing if needed\n",
    "\n"
   ]
  },
  {
   "cell_type": "code",
   "execution_count": 48,
   "metadata": {},
   "outputs": [
    {
     "data": {
      "text/plain": [
       "AIMessage(content='Royal Challengers Bangalore (RCB) is a popular and widely followed franchise cricket team based in Bangalore, Karnataka, India. They compete in the Indian Premier League (IPL). Here\\'s a breakdown of what you need to know about them:\\n\\n**Key Information:**\\n\\n*   **IPL Debut:** 2008 (Inaugural season)\\n*   **Home Ground:** M. Chinnaswamy Stadium, Bangalore\\n*   **Owner:** Royal Challengers Sports Private Limited (owned by United Spirits, a subsidiary of Diageo)\\n*   **Captain:** Faf du Plessis (current)\\n*   **Head Coach:** Andy Flower (current)\\n*   **Colors:** Red, Black, and Gold\\n*   **Theme Song:** \"Play Bold\"\\n\\n**IPL Performance:**\\n\\n*   **IPL Titles:** 0 (They have been runners-up three times: 2009, 2011, and 2016)\\n*   **Playoff Appearances:** 8 (2009, 2010, 2011, 2015, 2016, 2020, 2021, 2022)\\n\\n**Key Players (Historically and Currently):**\\n\\n*   **Virat Kohli:** The most iconic RCB player. He holds numerous IPL records, including the most runs scored in a single season (973 in 2016). He captained the team for many years and remains a vital part of the squad.\\n*   **AB de Villiers:** Widely regarded as one of the greatest batsmen of all time, de Villiers was a fan favorite for his incredible hitting ability and innovative shots. He retired from all forms of cricket in 2021.\\n*   **Chris Gayle:** Known for his explosive batting, Gayle holds the record for the highest individual score in IPL history (175*).\\n*   **Faf du Plessis:** The current captain, a seasoned international player known for his leadership and consistent performance.\\n*   **Glenn Maxwell:** A dynamic all-rounder who brings power-hitting and useful spin bowling to the team.\\n*   **Mohammed Siraj:** A key bowler for RCB, known for his pace and ability to take wickets.\\n*   **Dinesh Karthik:** A veteran wicket-keeper batsman who provides experience and finishing ability.\\n\\n**Why RCB is Popular:**\\n\\n*   **Star Power:** Over the years, RCB has consistently featured some of the biggest names in international cricket, attracting a large fan base.\\n*   **Passionate Fan Following:** RCB has one of the most dedicated and passionate fan bases in the IPL. They are known for their unwavering support, even during difficult seasons.\\n*   **Entertaining Cricket:** RCB is known for playing an aggressive and entertaining brand of cricket, often leading to high-scoring matches.\\n*   **Bangalore Connection:** The team\\'s connection to the city of Bangalore and the state of Karnataka is strong, fostering a sense of local pride.\\n\\n**Why They Haven\\'t Won the IPL (Despite the Hype):**\\n\\n*   **Inconsistent Performances:** While RCB has had periods of dominance, they have often struggled with consistency, particularly in crucial playoff matches.\\n*   **Bowling Weakness:** Historically, RCB\\'s bowling attack has been a weak link, often failing to defend high scores or take wickets consistently.\\n*   **Pressure and Expectations:** The immense pressure and expectations from fans can sometimes weigh on the players.\\n*   **Luck Factor:** Like any sport, luck plays a role, and RCB has often been on the wrong side of close matches.\\n\\n**In Summary:**\\n\\nRCB is a team with a rich history, a star-studded lineup, and a passionate fan base. While they are still searching for their first IPL title, they remain one of the most popular and exciting teams in the league. Their \"Play Bold\" motto reflects their aggressive approach to the game, and they continue to attract attention and generate excitement with every season.', additional_kwargs={}, response_metadata={'prompt_feedback': {'block_reason': 0, 'safety_ratings': []}, 'finish_reason': 'STOP', 'model_name': 'gemini-2.0-flash-001', 'safety_ratings': []}, id='run--89359ae5-eb73-4891-b1ac-32f59d4f0742-0', usage_metadata={'input_tokens': 5, 'output_tokens': 858, 'total_tokens': 863, 'input_token_details': {'cache_read': 0}})"
      ]
     },
     "execution_count": 48,
     "metadata": {},
     "output_type": "execute_result"
    }
   ],
   "source": [
    "import os\n",
    "from dotenv import load_dotenv\n",
    "\n",
    "load_dotenv()\n",
    "\n",
    "from langchain_google_genai import ChatGoogleGenerativeAI\n",
    "\n",
    "model = ChatGoogleGenerativeAI(model=\"gemini-2.0-flash-001\", google_api_key=os.getenv(\"GEMINI_API_KEY\"))\n",
    "\n",
    "model.invoke(\"tell me about RCB\")"
   ]
  },
  {
   "cell_type": "code",
   "execution_count": 49,
   "metadata": {},
   "outputs": [
    {
     "data": {
      "text/plain": [
       "384"
      ]
     },
     "execution_count": 49,
     "metadata": {},
     "output_type": "execute_result"
    }
   ],
   "source": [
    "from langchain_huggingface import HuggingFaceEmbeddings\n",
    "\n",
    "embeddings = HuggingFaceEmbeddings(model_name=\"sentence-transformers/all-MiniLM-L6-v2\")\n",
    "\n",
    "len(embeddings.embed_query(\"tell me about RCB\"))"
   ]
  },
  {
   "cell_type": "code",
   "execution_count": 50,
   "metadata": {},
   "outputs": [
    {
     "name": "stdout",
     "output_type": "stream",
     "text": [
      "Loaded 1 documents\n",
      "Created 55 document chunks\n",
      "\n",
      "Successfully created FAISS vector database with 55 documents\n"
     ]
    }
   ],
   "source": [
    "from langchain_community.document_loaders import TextLoader, DirectoryLoader\n",
    "from langchain_community.vectorstores import FAISS\n",
    "from langchain.text_splitter import RecursiveCharacterTextSplitter\n",
    "\n",
    "# Initialize document loader for all text files in the data directory\n",
    "document_loader = DirectoryLoader(\n",
    "    path=\"./data\", \n",
    "    glob=\"./*.txt\", \n",
    "    loader_cls=TextLoader\n",
    ")\n",
    "\n",
    "# Load all documents from the specified directory\n",
    "raw_documents = document_loader.load()\n",
    "print(f\"Loaded {len(raw_documents)} documents\")\n",
    "\n",
    "# Configure text splitter for optimal chunk sizes\n",
    "text_splitter = RecursiveCharacterTextSplitter(\n",
    "    chunk_size=200,      # Maximum characters per chunk\n",
    "    chunk_overlap=50,    # Overlap between chunks for context preservation\n",
    "    length_function=len,\n",
    "    separators=[\"\\n\\n\", \"\\n\", \" \", \"\"]\n",
    ")\n",
    "\n",
    "# Split documents into smaller, manageable chunks\n",
    "document_chunks = text_splitter.split_documents(documents=raw_documents)\n",
    "print(f\"Created {len(document_chunks)} document chunks\")\n",
    "\n",
    "# Extract text content for preview\n",
    "chunk_contents = [chunk.page_content for chunk in document_chunks]\n",
    "\n",
    "# Create FAISS vector database from document chunks\n",
    "vector_database = FAISS.from_documents(\n",
    "    documents=document_chunks,\n",
    "    embedding=embeddings  # Using the embeddings we set up earlier\n",
    ")\n",
    "\n",
    "print(f\"\\nSuccessfully created FAISS vector database with {len(document_chunks)} documents\")\n",
    "retriever = vector_database.as_retriever()"
   ]
  },
  {
   "cell_type": "code",
   "execution_count": 51,
   "metadata": {},
   "outputs": [],
   "source": [
    "\n",
    "# Helper function to format documents (unchanged)\n",
    "def format_docs(docs):\n",
    "    return \"\\n\\n\".join(doc.page_content for doc in docs)"
   ]
  },
  {
   "cell_type": "code",
   "execution_count": 52,
   "metadata": {},
   "outputs": [
    {
     "name": "stdout",
     "output_type": "stream",
     "text": [
      "Testing Tavily Search Integration...\n",
      "✅ Tavily Search Test Successful!\n",
      "Query: latest AI news today\n",
      "Number of results: 3\n",
      "Answer summary: Recent advancements in AI include developments in large language models and ethical discussions around AI's impact. Google and other companies are making significant progress. Stay updated for the lat...\n",
      "First result: Artificial Intelligence: Read latest news updates on AI technology\n",
      "URL: https://indianexpress.com/section/technology/artificial-intelligence/\n",
      "Content snippet: Artificial Intelligence: Read latest updates on AI like Google AI, ChatGPT, Google Lamda, Bard chatbot and more along with latest news as AI technolog...\n"
     ]
    },
    {
     "data": {
      "text/plain": [
       "True"
      ]
     },
     "execution_count": 52,
     "metadata": {},
     "output_type": "execute_result"
    }
   ],
   "source": [
    "# Import Tavily Search Client\n",
    "from tavily import TavilyClient\n",
    "\n",
    "# Initialize Tavily client\n",
    "# Note: You'll need to add TAVILY_API_KEY to your .env file\n",
    "# Get your free API key from: https://app.tavily.com/\n",
    "tavily_client = TavilyClient(api_key=os.getenv(\"TAVILY_API_KEY\"))\n",
    "\n",
    "# Test basic Tavily search functionality\n",
    "def test_tavily_search():\n",
    "    \"\"\"Test function to verify Tavily search is working\"\"\"\n",
    "    try:\n",
    "        # Perform a simple search\n",
    "        test_query = \"latest AI news today\"\n",
    "        response = tavily_client.search(\n",
    "            query=test_query,\n",
    "            search_depth=\"basic\",  # Options: \"basic\" or \"advanced\"\n",
    "            max_results=3,\n",
    "            include_answer=True,\n",
    "            include_raw_content=False\n",
    "        )\n",
    "        \n",
    "        print(\"✅ Tavily Search Test Successful!\")\n",
    "        print(f\"Query: {test_query}\")\n",
    "        print(f\"Number of results: {len(response.get('results', []))}\")\n",
    "        \n",
    "        # Display the answer if available\n",
    "        if response.get('answer'):\n",
    "            print(f\"Answer summary: {response['answer'][:200]}...\")\n",
    "        \n",
    "        # Display first result\n",
    "        if response.get('results'):\n",
    "            first_result = response['results'][0]\n",
    "            print(f\"First result: {first_result['title']}\")\n",
    "            print(f\"URL: {first_result['url']}\")\n",
    "            print(f\"Content snippet: {first_result['content'][:150]}...\")\n",
    "            \n",
    "        return True\n",
    "        \n",
    "    except Exception as e:\n",
    "        print(f\"❌ Tavily Search Test Failed: {str(e)}\")\n",
    "        print(\"Please ensure:\")\n",
    "        print(\"1. TAVILY_API_KEY is set in your .env file\")\n",
    "        print(\"2. You have an active internet connection\")\n",
    "        print(\"3. Your Tavily API key is valid\")\n",
    "        return False\n",
    "\n",
    "# Run the test (comment out if you don't have API key yet)\n",
    "print(\"Testing Tavily Search Integration...\")\n",
    "test_tavily_search()\n"
   ]
  },
  {
   "cell_type": "code",
   "execution_count": 53,
   "metadata": {},
   "outputs": [
    {
     "name": "stdout",
     "output_type": "stream",
     "text": [
      "Web search helper function created successfully!\n",
      "You can test it by running: perform_web_search('your query here')\n"
     ]
    }
   ],
   "source": [
    "# Web Search Helper Function for the Web Crawler Node\n",
    "def perform_web_search(query, max_results=5):\n",
    "    \"\"\"\n",
    "    Perform web search using Tavily and return formatted results\n",
    "    \n",
    "    Args:\n",
    "        query (str): Search query\n",
    "        max_results (int): Maximum number of results to return\n",
    "    \n",
    "    Returns:\n",
    "        str: Formatted search results for the AI agent\n",
    "    \"\"\"\n",
    "    try:\n",
    "        # Perform the search\n",
    "        response = tavily_client.search(\n",
    "            query=query,\n",
    "            search_depth=\"basic\",\n",
    "            max_results=max_results,\n",
    "            include_answer=True,\n",
    "            include_raw_content=False,\n",
    "            include_images=False\n",
    "        )\n",
    "        \n",
    "        # Format the results for AI consumption\n",
    "        formatted_results = f\"Web Search Results for: '{query}'\\n\\n\"\n",
    "        \n",
    "        # Add the AI-generated answer if available\n",
    "        if response.get('answer'):\n",
    "            formatted_results += f\"Summary Answer: {response['answer']}\\n\\n\"\n",
    "        \n",
    "        # Add individual search results\n",
    "        if response.get('results'):\n",
    "            formatted_results += \"Detailed Results:\\n\"\n",
    "            for i, result in enumerate(response['results'], 1):\n",
    "                formatted_results += f\"{i}. {result['title']}\\n\"\n",
    "                formatted_results += f\"   Source: {result['url']}\\n\"\n",
    "                formatted_results += f\"   Content: {result['content'][:300]}...\\n\\n\"\n",
    "        else:\n",
    "            formatted_results += \"No detailed results found.\\n\"\n",
    "        \n",
    "        return formatted_results\n",
    "        \n",
    "    except Exception as e:\n",
    "        error_msg = f\"Web search failed: {str(e)}\"\n",
    "        print(f\"Error in web search: {error_msg}\")\n",
    "        return f\"Unable to perform web search for '{query}'. Error: {error_msg}\"\n",
    "\n",
    "# Test the web search function\n",
    "print(\"Web search helper function created successfully!\")\n",
    "print(\"You can test it by running: perform_web_search('your query here')\")\n"
   ]
  },
  {
   "cell_type": "code",
   "execution_count": 54,
   "metadata": {},
   "outputs": [
    {
     "name": "stdout",
     "output_type": "stream",
     "text": [
      "Enhanced classification system created!\n",
      "Categories: USA Economy | General Knowledge | Real-time/Current Events\n",
      "\n",
      "Format instructions:\n",
      "The output should be formatted as a JSON instance that conforms to the JSON schema below.\n",
      "\n",
      "As an example, for the schema {\"properties\": {\"foo\": {\"title\": \"Foo\", \"description\": \"a list of strings\", \"type\": \"array\", \"items\": {\"type\": \"string\"}}}, \"required\": [\"foo\"]}\n",
      "the object {\"foo\": [\"bar\", \"baz\"]} is a well-formatted instance of the schema. The object {\"properties\": {\"foo\": [\"bar\", \"baz\"]}} is not well-formatted.\n",
      "\n",
      "Here is the output schema:\n",
      "```\n",
      "{\"properties\": {\"Topic\": {\"description\": \"selected topic from: USA Economy, General Knowledge, Real-time/Current Events\", \"title\": \"Topic\", \"type\": \"string\"}, \"Reasoning\": {\"description\": \"reasoning behind the selected topic\", \"title\": \"Reasoning\", \"type\": \"string\"}}, \"required\": [\"Topic\", \"Reasoning\"]}\n",
      "```\n"
     ]
    }
   ],
   "source": [
    "# Enhanced Topic Selection Parser for three categories\n",
    "from pydantic import BaseModel, Field\n",
    "from langchain.output_parsers import PydanticOutputParser\n",
    "\n",
    "class EnhancedTopicSelectionParser(BaseModel):\n",
    "    Topic: str = Field(description=\"selected topic from: USA Economy, General Knowledge, Real-time/Current Events\")\n",
    "    Reasoning: str = Field(description=\"reasoning behind the selected topic\")\n",
    "    \n",
    "# Create the  parser\n",
    "parser = PydanticOutputParser(pydantic_object=EnhancedTopicSelectionParser)\n",
    "\n",
    "print(\"Enhanced classification system created!\")\n",
    "print(\"Categories: USA Economy | General Knowledge | Real-time/Current Events\")\n",
    "print(\"\\nFormat instructions:\")\n",
    "print(parser.get_format_instructions())\n"
   ]
  },
  {
   "cell_type": "code",
   "execution_count": 55,
   "metadata": {},
   "outputs": [],
   "source": [
    "from typing import TypedDict, Annotated, Sequence\n",
    "from langchain_core.messages import BaseMessage\n",
    "import operator\n",
    "\n",
    "class AgentState(TypedDict):\n",
    "    messages:Annotated[Sequence[BaseMessage], operator.add]"
   ]
  },
  {
   "cell_type": "code",
   "execution_count": 56,
   "metadata": {},
   "outputs": [
    {
     "name": "stdout",
     "output_type": "stream",
     "text": [
      "✅ Updated agent functions created (removed 'enhanced' naming)!\n",
      "🏛️ RAG Node: USA Economy questions\n",
      "🤖 LLM Node: General Knowledge questions\n",
      "🌐 Web Crawler Node: Real-time/Current Events questions\n"
     ]
    }
   ],
   "source": [
    "# Phase 5: Advanced Validation with Feedback Loop\n",
    "\n",
    "# Remove \"enhanced\" from function names and implement feedback loop\n",
    "def supervisor(state: AgentState):\n",
    "    \"\"\"Supervisor with 3-way classification\"\"\"\n",
    "    question = state['messages'][-1]\n",
    "    print(\"🔍 Supervisor analyzing question:\", question)\n",
    "\n",
    "    template = \"\"\"\n",
    "    Your task is to classify the question into one of the following categories: [USA Economy, General Knowledge, Real-time/Current Events]\n",
    "    \n",
    "    Guidelines:\n",
    "    - USA Economy: Questions about US economic structure, policies, GDP, Federal Reserve, trade, financial systems\n",
    "    - General Knowledge: General questions, explanations, concepts that don't require real-time data\n",
    "    - Real-time/Current Events: Questions about latest news, current prices, today's weather, recent developments\n",
    "    \n",
    "    User Query: {question}\n",
    "    {format_instructions}\n",
    "    \"\"\"\n",
    "    prompt = PromptTemplate(\n",
    "        template=template,\n",
    "        input_variables=[\"question\"],\n",
    "        partial_variables={\"format_instructions\": parser.get_format_instructions()}\n",
    "    )\n",
    "    chain = prompt | model | parser\n",
    "\n",
    "    response = chain.invoke({\"question\": question})\n",
    "    print(\"📊 Classification result:\", response.Topic)\n",
    "    print(\"💭 Reasoning:\", response.Reasoning)\n",
    "\n",
    "    return {\"messages\": [response.Topic]}\n",
    "\n",
    "# Remove \"enhanced\" from node functions\n",
    "def rag_node(state: AgentState):\n",
    "    \"\"\"RAG Node for USA Economy questions\"\"\"\n",
    "    print(\"🏛️ RAG Node (USA Economy) processing:\", state[\"messages\"][0])\n",
    "    question = state[\"messages\"][0]\n",
    "\n",
    "    prompt = PromptTemplate(\n",
    "        template=\"\"\"You are an assistant specializing in US Economy questions. Use the following pieces of retrieved context to answer the question. If you don't know the answer, just say that you don't know. Use three sentences maximum and keep the answer concise.\\nQuestion: {question} \\nContext: {context} \\nAnswer:\"\"\",\n",
    "        input_variables=['context', 'question']\n",
    "    )\n",
    "\n",
    "    output_parser = StrOutputParser()\n",
    "\n",
    "    rag_chain = (\n",
    "        {\"context\": retriever | format_docs, \"question\": RunnablePassthrough()}\n",
    "        | prompt \n",
    "        | model \n",
    "        | output_parser\n",
    "    )\n",
    "    response = rag_chain.invoke(question)\n",
    "    print(\"✅ RAG Response generated\")\n",
    "    return {\"messages\": [response]}\n",
    "\n",
    "def llm_node(state: AgentState):\n",
    "    \"\"\"LLM Node for General Knowledge questions\"\"\"\n",
    "    print(\"🤖 LLM Node (General Knowledge) processing:\", state[\"messages\"][0])\n",
    "    question = state[\"messages\"][0]\n",
    "\n",
    "    complete_query = \"Answer the following general knowledge question clearly and concisely: \" + question\n",
    "    response = model.invoke(complete_query)\n",
    "    print(\"✅ LLM Response generated\")\n",
    "    return {\"messages\": [response]}\n",
    "\n",
    "def web_crawler_node(state: AgentState):\n",
    "    \"\"\"Web Crawler Node for Real-time/Current Events using Tavily Search\"\"\"\n",
    "    print(\"🌐 Web Crawler Node (Real-time/Current Events) processing:\", state[\"messages\"][0])\n",
    "    question = state[\"messages\"][0]\n",
    "    \n",
    "    # Perform actual web search using our Tavily function\n",
    "    search_results = perform_web_search(question, max_results=3)\n",
    "    \n",
    "    # Generate a concise answer based on search results\n",
    "    query = f\"\"\"Based on the following web search results, provide a concise and accurate answer to the question: \"{question}\"\n",
    "    \n",
    "    Search Results:\n",
    "    {search_results}\n",
    "    \n",
    "    Please provide a clear, factual answer based on the search results above.\"\"\"\n",
    "    \n",
    "    response = model.invoke(query)\n",
    "    print(\"✅ Web Crawler Response generated\")\n",
    "    return {\"messages\": [response]}\n",
    "\n",
    "print(\"✅ Updated agent functions created (removed 'enhanced' naming)!\")\n",
    "print(\"🏛️ RAG Node: USA Economy questions\")\n",
    "print(\"🤖 LLM Node: General Knowledge questions\") \n",
    "print(\"🌐 Web Crawler Node: Real-time/Current Events questions\")\n"
   ]
  },
  {
   "cell_type": "code",
   "execution_count": 57,
   "metadata": {},
   "outputs": [
    {
     "name": "stdout",
     "output_type": "stream",
     "text": [
      "✅ Router and validation functions created!\n",
      "🔀 Router supports: USA Economy → RAG | General Knowledge → LLM | Real-time/Current Events → Web Crawler\n",
      "✅ Validation Node: Advanced quality checks with LLM-based validation\n",
      "🔄 Feedback Loop: Failed validations retry through Supervisor\n"
     ]
    }
   ],
   "source": [
    "# Router Function with 3-way routing  \n",
    "def router(state: AgentState):\n",
    "    \"\"\"Router for 3-way classification\"\"\"\n",
    "    classification = state[\"messages\"][-1]\n",
    "    print(\"🔀 Router decision based on:\", classification)\n",
    "\n",
    "    if \"USA Economy\" in classification:\n",
    "        print(\"→ Routing to RAG Node\")\n",
    "        return \"Call RAG\"\n",
    "    elif \"General Knowledge\" in classification:\n",
    "        print(\"→ Routing to LLM Node\") \n",
    "        return \"Call LLM\"\n",
    "    elif \"Real-time/Current Events\" in classification:\n",
    "        print(\"→ Routing to Web Crawler Node\")\n",
    "        return \"Call Web Crawler\"\n",
    "    else:\n",
    "        # Fallback to LLM for unknown classifications\n",
    "        print(\"→ Fallback routing to LLM Node\")\n",
    "        return \"Call LLM\"\n",
    "\n",
    "# Advanced Validation Node with Feedback Loop - Phase 5\n",
    "def validation_node(state: AgentState):\n",
    "    \"\"\"Advanced Validation Node with feedback loop capability\"\"\"\n",
    "    print(\"✅ Validation Node processing response\")\n",
    "    response = state[\"messages\"][-1]\n",
    "    original_question = state[\"messages\"][0]\n",
    "    \n",
    "    # Use LLM to validate response quality and relevance\n",
    "    validation_prompt = f\"\"\"\n",
    "    Evaluate the following response for quality and relevance to the original question.\n",
    "    \n",
    "    Original Question: {original_question}\n",
    "    Response: {response}\n",
    "    \n",
    "    Criteria:\n",
    "    1. Is the response relevant to the question?\n",
    "    2. Is the response complete and informative?\n",
    "    3. Is the response accurate based on the context?\n",
    "    \n",
    "    Reply with only \"PASS\" or \"FAIL\" followed by a brief reason.\n",
    "    \"\"\"\n",
    "    \n",
    "    try:\n",
    "        validation_result = model.invoke(validation_prompt)\n",
    "        validation_text = str(validation_result.content if hasattr(validation_result, 'content') else validation_result)\n",
    "        \n",
    "        if \"PASS\" in validation_text.upper():\n",
    "            print(\"✅ Response validation passed\")\n",
    "            print(f\"✅ Validation reason: {validation_text}\")\n",
    "            return {\"messages\": [response, \"VALIDATION_PASS\"]}\n",
    "        else:\n",
    "            print(\"❌ Response validation failed\")\n",
    "            print(f\"❌ Validation reason: {validation_text}\")\n",
    "            return {\"messages\": [response, \"VALIDATION_FAIL\"]}\n",
    "            \n",
    "    except Exception as e:\n",
    "        print(f\"⚠️ Validation error: {e}\")\n",
    "        # Fallback to basic validation\n",
    "        if len(str(response)) > 20:\n",
    "            print(\"✅ Fallback validation passed\")\n",
    "            return {\"messages\": [response, \"VALIDATION_PASS\"]}\n",
    "        else:\n",
    "            print(\"❌ Fallback validation failed\")\n",
    "            return {\"messages\": [response, \"VALIDATION_FAIL\"]}\n",
    "\n",
    "# Feedback Router - Routes based on validation result\n",
    "def feedback_router(state: AgentState):\n",
    "    \"\"\"Routes based on validation results\"\"\"\n",
    "    validation_status = state[\"messages\"][-1]\n",
    "    print(f\"🔄 Feedback router checking: {validation_status}\")\n",
    "    \n",
    "    if \"VALIDATION_PASS\" in str(validation_status):\n",
    "        print(\"✅ Validation passed - Ending workflow\")\n",
    "        return \"END\"\n",
    "    else:\n",
    "        print(\"❌ Validation failed - Routing back to Supervisor for retry\")\n",
    "        return \"RETRY\"\n",
    "\n",
    "print(\"✅ Router and validation functions created!\")\n",
    "print(\"🔀 Router supports: USA Economy → RAG | General Knowledge → LLM | Real-time/Current Events → Web Crawler\")\n",
    "print(\"✅ Validation Node: Advanced quality checks with LLM-based validation\")\n",
    "print(\"🔄 Feedback Loop: Failed validations retry through Supervisor\")\n"
   ]
  },
  {
   "cell_type": "code",
   "execution_count": 58,
   "metadata": {},
   "outputs": [
    {
     "name": "stdout",
     "output_type": "stream",
     "text": [
      "🎯 Multi-Agent System with Feedback Loop Created!\n",
      "📊 Workflow: User Query → Supervisor → [RAG|LLM|Web Crawler] → Validation\n",
      "🔄 Feedback Loop: If validation fails → back to Supervisor for retry\n",
      "✅ If validation passes → End workflow\n",
      "\n",
      "🏛️ RAG: USA Economy questions\n",
      "🤖 LLM: General Knowledge questions\n",
      "🌐 Web Crawler: Real-time/Current Events questions\n",
      "✅ Validation: LLM-based quality checks with feedback capability\n"
     ]
    }
   ],
   "source": [
    "# Multi-Agent Workflow with Feedback Loop - Phase 5\n",
    "from langgraph.graph import StateGraph, START, END\n",
    "\n",
    "# Create the workflow with feedback loop\n",
    "workflow = StateGraph(AgentState)\n",
    "\n",
    "# Add all nodes to the workflow\n",
    "workflow.add_node(\"Supervisor\", supervisor)\n",
    "workflow.add_node(\"RAG\", rag_node)\n",
    "workflow.add_node(\"LLM\", llm_node)\n",
    "workflow.add_node(\"Web Crawler\", web_crawler_node)\n",
    "workflow.add_node(\"Validation\", validation_node)\n",
    "\n",
    "# Set entry point\n",
    "workflow.set_entry_point(\"Supervisor\")\n",
    "\n",
    "# Add conditional routing from Supervisor\n",
    "workflow.add_conditional_edges(\n",
    "    \"Supervisor\",\n",
    "    router,\n",
    "    {\n",
    "        \"Call RAG\": \"RAG\",\n",
    "        \"Call LLM\": \"LLM\", \n",
    "        \"Call Web Crawler\": \"Web Crawler\",\n",
    "    }\n",
    ")\n",
    "\n",
    "# All specialized nodes go to validation\n",
    "workflow.add_edge(\"RAG\", \"Validation\")\n",
    "workflow.add_edge(\"LLM\", \"Validation\")\n",
    "workflow.add_edge(\"Web Crawler\", \"Validation\")\n",
    "\n",
    "# FEEDBACK LOOP: Validation can route back to Supervisor or end\n",
    "workflow.add_conditional_edges(\n",
    "    \"Validation\",\n",
    "    feedback_router,\n",
    "    {\n",
    "        \"END\": END,\n",
    "        \"RETRY\": \"Supervisor\"  # This creates the feedback loop!\n",
    "    }\n",
    ")\n",
    "\n",
    "# Compile the workflow\n",
    "app = workflow.compile()\n",
    "\n",
    "print(\"🎯 Multi-Agent System with Feedback Loop Created!\")\n",
    "print(\"📊 Workflow: User Query → Supervisor → [RAG|LLM|Web Crawler] → Validation\")\n",
    "print(\"🔄 Feedback Loop: If validation fails → back to Supervisor for retry\")\n",
    "print(\"✅ If validation passes → End workflow\")\n",
    "print(\"\")\n",
    "print(\"🏛️ RAG: USA Economy questions\")\n",
    "print(\"🤖 LLM: General Knowledge questions\")\n",
    "print(\"🌐 Web Crawler: Real-time/Current Events questions\")\n",
    "print(\"✅ Validation: LLM-based quality checks with feedback capability\")\n"
   ]
  },
  {
   "cell_type": "code",
   "execution_count": 59,
   "metadata": {},
   "outputs": [
    {
     "name": "stdout",
     "output_type": "stream",
     "text": [
      "🧪 Phase 5 Test Functions Ready!\n",
      "📋 To test the system:\n",
      "1. Run: test_system()\n",
      "2. Or test individual queries: test_single_query('your question here')\n",
      "\n",
      "🎯 Expected Features:\n",
      "🔄 Feedback loop for failed validations\n",
      "🏛️ 'US GDP structure' → RAG Node\n",
      "🤖 'Explain quantum physics' → LLM Node\n",
      "🌐 'Latest news today' → Web Crawler Node\n",
      "✅ LLM-based response validation\n"
     ]
    }
   ],
   "source": [
    "# Test the Phase 5 System with Feedback Loop\n",
    "\n",
    "def test_system():\n",
    "    \"\"\"Test the system with different query types\"\"\"\n",
    "    \n",
    "    # Test queries for each category\n",
    "    test_queries = [\n",
    "        # USA Economy queries (should route to RAG)\n",
    "        \"What is the structure of the US economy?\",\n",
    "        \n",
    "        # General Knowledge queries (should route to LLM) \n",
    "        \"Explain how photosynthesis works\",\n",
    "        \n",
    "        # Real-time/Current Events queries (should route to Web Crawler)\n",
    "        \"Latest AI news today\",\n",
    "    ]\n",
    "    \n",
    "    print(\"🧪 Testing Multi-Agent System with Feedback Loop\")\n",
    "    print(\"=\" * 60)\n",
    "    \n",
    "    for i, query in enumerate(test_queries, 1):\n",
    "        print(f\"\\n🔸 Test {i}: {query}\")\n",
    "        print(\"-\" * 40)\n",
    "        \n",
    "        try:\n",
    "            state = {\"messages\": [query]}\n",
    "            result = app.invoke(state)\n",
    "            \n",
    "            # Get the final validated response\n",
    "            final_response = None\n",
    "            validation_status = None\n",
    "            \n",
    "            for msg in result[\"messages\"]:\n",
    "                if \"VALIDATION_PASS\" in str(msg):\n",
    "                    validation_status = \"PASSED\"\n",
    "                elif \"VALIDATION_FAIL\" in str(msg):\n",
    "                    validation_status = \"FAILED\"\n",
    "                elif str(msg) not in [query] and \"VALIDATION\" not in str(msg):\n",
    "                    final_response = msg\n",
    "            \n",
    "            print(f\"📤 Final Response: {str(final_response)[:200]}...\")\n",
    "            print(f\"✅ Validation Status: {validation_status}\")\n",
    "            \n",
    "        except Exception as e:\n",
    "            print(f\"❌ Error: {str(e)}\")\n",
    "        \n",
    "        print(\"-\" * 40)\n",
    "\n",
    "def test_single_query(query):\n",
    "    \"\"\"Test a single query\"\"\"\n",
    "    print(f\"🔸 Testing: {query}\")\n",
    "    print(\"-\" * 40)\n",
    "    \n",
    "    try:\n",
    "        state = {\"messages\": [query]}\n",
    "        result = app.invoke(state)\n",
    "        \n",
    "        # Get the final validated response\n",
    "        final_response = None\n",
    "        validation_status = None\n",
    "        \n",
    "        for msg in result[\"messages\"]:\n",
    "            if \"VALIDATION_PASS\" in str(msg):\n",
    "                validation_status = \"PASSED\"\n",
    "            elif \"VALIDATION_FAIL\" in str(msg):\n",
    "                validation_status = \"FAILED\"\n",
    "            elif str(msg) not in [query] and \"VALIDATION\" not in str(msg):\n",
    "                final_response = msg\n",
    "        \n",
    "        print(f\"📤 Final Response: {str(final_response)}\")\n",
    "        print(f\"✅ Validation Status: {validation_status}\")\n",
    "        return result\n",
    "        \n",
    "    except Exception as e:\n",
    "        print(f\"❌ Error: {str(e)}\")\n",
    "        return None\n",
    "\n",
    "print(\"🧪 Phase 5 Test Functions Ready!\")\n",
    "print(\"📋 To test the system:\")\n",
    "print(\"1. Run: test_system()\")\n",
    "print(\"2. Or test individual queries: test_single_query('your question here')\")\n",
    "print(\"\")\n",
    "print(\"🎯 Expected Features:\")\n",
    "print(\"🔄 Feedback loop for failed validations\")\n",
    "print(\"🏛️ 'US GDP structure' → RAG Node\")\n",
    "print(\"🤖 'Explain quantum physics' → LLM Node\") \n",
    "print(\"🌐 'Latest news today' → Web Crawler Node\")\n",
    "print(\"✅ LLM-based response validation\")\n"
   ]
  },
  {
   "cell_type": "code",
   "execution_count": 60,
   "metadata": {},
   "outputs": [
    {
     "name": "stdout",
     "output_type": "stream",
     "text": [
      "🔍 Supervisor analyzing question: What is the capital of USA?\n",
      "📊 Classification result: General Knowledge\n",
      "💭 Reasoning: The capital of the USA is a well-known fact and doesn't require real-time data or relate specifically to the US economy.\n",
      "🔀 Router decision based on: General Knowledge\n",
      "→ Routing to LLM Node\n",
      "🤖 LLM Node (General Knowledge) processing: What is the capital of USA?\n",
      "✅ LLM Response generated\n",
      "✅ Validation Node processing response\n",
      "✅ Response validation passed\n",
      "✅ Validation reason: PASS. The response accurately and completely answers the question.\n",
      "🔄 Feedback router checking: VALIDATION_PASS\n",
      "✅ Validation passed - Ending workflow\n"
     ]
    },
    {
     "data": {
      "text/plain": [
       "'VALIDATION_PASS'"
      ]
     },
     "execution_count": 60,
     "metadata": {},
     "output_type": "execute_result"
    }
   ],
   "source": [
    "state = {\"messages\": [\"What is the capital of USA?\"]}\n",
    "app.invoke(state)[\"messages\"][-1]"
   ]
  },
  {
   "cell_type": "code",
   "execution_count": 61,
   "metadata": {},
   "outputs": [
    {
     "name": "stdout",
     "output_type": "stream",
     "text": [
      "🔸 Testing: What was announced by the Federal Reserve last week?\n",
      "----------------------------------------\n",
      "🔍 Supervisor analyzing question: What was announced by the Federal Reserve last week?\n",
      "📊 Classification result: USA Economy\n",
      "💭 Reasoning: The Federal Reserve is the central bank of the United States, and announcements made by it directly relate to the US economy.\n",
      "🔀 Router decision based on: USA Economy\n",
      "→ Routing to RAG Node\n",
      "🏛️ RAG Node (USA Economy) processing: What was announced by the Federal Reserve last week?\n",
      "✅ RAG Response generated\n",
      "✅ Validation Node processing response\n",
      "❌ Response validation failed\n",
      "❌ Validation reason: FAIL. The response doesn't directly answer what the Federal Reserve announced last week. It discusses the general impact of past actions but doesn't specify any recent announcements.\n",
      "🔄 Feedback router checking: VALIDATION_FAIL\n",
      "❌ Validation failed - Routing back to Supervisor for retry\n",
      "🔍 Supervisor analyzing question: VALIDATION_FAIL\n",
      "📊 Classification result: General Knowledge\n",
      "💭 Reasoning: The query 'VALIDATION_FAIL' doesn't fit into any specific category related to the USA Economy or require real-time information. It's a general term indicating a failure in a validation process, which falls under general knowledge.\n",
      "🔀 Router decision based on: General Knowledge\n",
      "→ Routing to LLM Node\n",
      "🤖 LLM Node (General Knowledge) processing: What was announced by the Federal Reserve last week?\n",
      "✅ LLM Response generated\n",
      "✅ Validation Node processing response\n",
      "✅ Response validation passed\n",
      "✅ Validation reason: PASS. The response directly answers the question and provides a key detail about the Federal Reserve's announcement.\n",
      "🔄 Feedback router checking: VALIDATION_PASS\n",
      "✅ Validation passed - Ending workflow\n",
      "📤 Final Response: content='The Federal Reserve announced **no change to the federal funds rate** at its last meeting.' additional_kwargs={} response_metadata={'prompt_feedback': {'block_reason': 0, 'safety_ratings': []}, 'finish_reason': 'STOP', 'model_name': 'gemini-2.0-flash-001', 'safety_ratings': []} id='run--f32874eb-16e3-41dd-a5fb-6cff4bded75b-0' usage_metadata={'input_tokens': 21, 'output_tokens': 19, 'total_tokens': 40, 'input_token_details': {'cache_read': 0}}\n",
      "✅ Validation Status: PASSED\n"
     ]
    },
    {
     "data": {
      "text/plain": [
       "{'messages': ['What was announced by the Federal Reserve last week?',\n",
       "  'USA Economy',\n",
       "  \"The Federal Reserve's interest rate hikes aimed at controlling inflation moderated economic expansion. These hikes occurred because of rising inflation in 2022 and 2023. Consumer spending remains a dominant force in the US economy.\",\n",
       "  \"The Federal Reserve's interest rate hikes aimed at controlling inflation moderated economic expansion. These hikes occurred because of rising inflation in 2022 and 2023. Consumer spending remains a dominant force in the US economy.\",\n",
       "  'VALIDATION_FAIL',\n",
       "  'General Knowledge',\n",
       "  AIMessage(content='The Federal Reserve announced **no change to the federal funds rate** at its last meeting.', additional_kwargs={}, response_metadata={'prompt_feedback': {'block_reason': 0, 'safety_ratings': []}, 'finish_reason': 'STOP', 'model_name': 'gemini-2.0-flash-001', 'safety_ratings': []}, id='run--f32874eb-16e3-41dd-a5fb-6cff4bded75b-0', usage_metadata={'input_tokens': 21, 'output_tokens': 19, 'total_tokens': 40, 'input_token_details': {'cache_read': 0}}),\n",
       "  AIMessage(content='The Federal Reserve announced **no change to the federal funds rate** at its last meeting.', additional_kwargs={}, response_metadata={'prompt_feedback': {'block_reason': 0, 'safety_ratings': []}, 'finish_reason': 'STOP', 'model_name': 'gemini-2.0-flash-001', 'safety_ratings': []}, id='run--f32874eb-16e3-41dd-a5fb-6cff4bded75b-0', usage_metadata={'input_tokens': 21, 'output_tokens': 19, 'total_tokens': 40, 'input_token_details': {'cache_read': 0}}),\n",
       "  'VALIDATION_PASS']}"
      ]
     },
     "execution_count": 61,
     "metadata": {},
     "output_type": "execute_result"
    }
   ],
   "source": [
    "test_single_query(\"What was announced by the Federal Reserve last week?\")"
   ]
  },
  {
   "cell_type": "code",
   "execution_count": 62,
   "metadata": {},
   "outputs": [
    {
     "name": "stdout",
     "output_type": "stream",
     "text": [
      "🔸 Testing: GDP\n",
      "----------------------------------------\n",
      "🔍 Supervisor analyzing question: GDP\n",
      "📊 Classification result: USA Economy\n",
      "💭 Reasoning: GDP is a key indicator of a country's economic performance, making it directly related to the USA Economy category.\n",
      "🔀 Router decision based on: USA Economy\n",
      "→ Routing to RAG Node\n",
      "🏛️ RAG Node (USA Economy) processing: GDP\n",
      "✅ RAG Response generated\n",
      "✅ Validation Node processing response\n",
      "✅ Response validation passed\n",
      "✅ Validation reason: PASS. The response is relevant, informative, and appears accurate based on readily available data.\n",
      "🔄 Feedback router checking: VALIDATION_PASS\n",
      "✅ Validation passed - Ending workflow\n",
      "📤 Final Response: The United States' nominal GDP is estimated to be around $28 trillion USD as of 2024, accounting for approximately 25% of the global economy. The US ranks #1 in the world by nominal GDP. The services sector predominantly drives the GDP, contributing over 77%.\n",
      "✅ Validation Status: PASSED\n"
     ]
    },
    {
     "data": {
      "text/plain": [
       "{'messages': ['GDP',\n",
       "  'USA Economy',\n",
       "  \"The United States' nominal GDP is estimated to be around $28 trillion USD as of 2024, accounting for approximately 25% of the global economy. The US ranks #1 in the world by nominal GDP. The services sector predominantly drives the GDP, contributing over 77%.\",\n",
       "  \"The United States' nominal GDP is estimated to be around $28 trillion USD as of 2024, accounting for approximately 25% of the global economy. The US ranks #1 in the world by nominal GDP. The services sector predominantly drives the GDP, contributing over 77%.\",\n",
       "  'VALIDATION_PASS']}"
      ]
     },
     "execution_count": 62,
     "metadata": {},
     "output_type": "execute_result"
    }
   ],
   "source": [
    "test_single_query(\"GDP\")"
   ]
  },
  {
   "cell_type": "code",
   "execution_count": 63,
   "metadata": {},
   "outputs": [
    {
     "name": "stdout",
     "output_type": "stream",
     "text": [
      "🔸 Testing: How is the US dollar performing in global markets right now?\n",
      "----------------------------------------\n",
      "🔍 Supervisor analyzing question: How is the US dollar performing in global markets right now?\n",
      "📊 Classification result: Real-time/Current Events\n",
      "💭 Reasoning: The question asks about the current performance of the US dollar in global markets, which requires real-time data and is a current event.\n",
      "🔀 Router decision based on: Real-time/Current Events\n",
      "→ Routing to Web Crawler Node\n",
      "🌐 Web Crawler Node (Real-time/Current Events) processing: How is the US dollar performing in global markets right now?\n",
      "✅ Web Crawler Response generated\n",
      "✅ Validation Node processing response\n",
      "✅ Response validation passed\n",
      "✅ Validation reason: PASS. The response directly addresses the question about the US dollar's performance, mentioning its general strengthening and the DXY index. It also provides a relevant caveat about its performance during market volatility.\n",
      "🔄 Feedback router checking: VALIDATION_PASS\n",
      "✅ Validation passed - Ending workflow\n",
      "📤 Final Response: content='According to the search results, the US dollar has generally strengthened against major currencies since September 2024 and is currently performing well. The US Dollar Index (DXY) shows a notable rise. However, one article mentions that during times of market volatility the dollar is not performing as a safe haven as it normally would.' additional_kwargs={} response_metadata={'prompt_feedback': {'block_reason': 0, 'safety_ratings': []}, 'finish_reason': 'STOP', 'model_name': 'gemini-2.0-flash-001', 'safety_ratings': []} id='run--9c47b340-05d4-4e51-a3d9-11774deca91b-0' usage_metadata={'input_tokens': 410, 'output_tokens': 67, 'total_tokens': 477, 'input_token_details': {'cache_read': 0}}\n",
      "✅ Validation Status: PASSED\n"
     ]
    },
    {
     "data": {
      "text/plain": [
       "{'messages': ['How is the US dollar performing in global markets right now?',\n",
       "  'Real-time/Current Events',\n",
       "  AIMessage(content='According to the search results, the US dollar has generally strengthened against major currencies since September 2024 and is currently performing well. The US Dollar Index (DXY) shows a notable rise. However, one article mentions that during times of market volatility the dollar is not performing as a safe haven as it normally would.', additional_kwargs={}, response_metadata={'prompt_feedback': {'block_reason': 0, 'safety_ratings': []}, 'finish_reason': 'STOP', 'model_name': 'gemini-2.0-flash-001', 'safety_ratings': []}, id='run--9c47b340-05d4-4e51-a3d9-11774deca91b-0', usage_metadata={'input_tokens': 410, 'output_tokens': 67, 'total_tokens': 477, 'input_token_details': {'cache_read': 0}}),\n",
       "  AIMessage(content='According to the search results, the US dollar has generally strengthened against major currencies since September 2024 and is currently performing well. The US Dollar Index (DXY) shows a notable rise. However, one article mentions that during times of market volatility the dollar is not performing as a safe haven as it normally would.', additional_kwargs={}, response_metadata={'prompt_feedback': {'block_reason': 0, 'safety_ratings': []}, 'finish_reason': 'STOP', 'model_name': 'gemini-2.0-flash-001', 'safety_ratings': []}, id='run--9c47b340-05d4-4e51-a3d9-11774deca91b-0', usage_metadata={'input_tokens': 410, 'output_tokens': 67, 'total_tokens': 477, 'input_token_details': {'cache_read': 0}}),\n",
       "  'VALIDATION_PASS']}"
      ]
     },
     "execution_count": 63,
     "metadata": {},
     "output_type": "execute_result"
    }
   ],
   "source": [
    "test_single_query(\"How is the US dollar performing in global markets right now?\")"
   ]
  },
  {
   "cell_type": "code",
   "execution_count": 64,
   "metadata": {},
   "outputs": [
    {
     "data": {
      "image/png": "[encoded data removed]",
      "text/plain": [
       "<langgraph.graph.state.CompiledStateGraph object at 0x30f2c55b0>"
      ]
     },
     "execution_count": 64,
     "metadata": {},
     "output_type": "execute_result"
    }
   ],
   "source": [
    "workflow.compile()"
   ]
  },
  {
   "cell_type": "code",
   "execution_count": 67,
   "metadata": {},
   "outputs": [
    {
     "name": "stdout",
     "output_type": "stream",
     "text": [
      "✅ PNG diagram exported to: workflow_diagram.png\n"
     ]
    }
   ],
   "source": [
    "# Export Workflow Diagram as PNG/SVG\n",
    "\n",
    "try:\n",
    "    # Try to export as PNG\n",
    "    png_data = app.get_graph().draw_mermaid_png()\n",
    "    with open(\"workflow_diagram.png\", \"wb\") as f:\n",
    "        f.write(png_data)\n",
    "    print(\"✅ PNG diagram exported to: workflow_diagram.png\")\n",
    "    \n",
    "except Exception as e:\n",
    "    print(f\"PNG export failed: {e}\")\n",
    "    \n",
    "    try:\n",
    "        # Fallback: Try to export as ASCII and then convert\n",
    "        from PIL import Image, ImageDraw, ImageFont\n",
    "        \n",
    "        ascii_diagram = app.get_graph().draw_ascii()\n",
    "        \n",
    "        # Create image from ASCII\n",
    "        lines = ascii_diagram.split('\\n')\n",
    "        max_width = max(len(line) for line in lines) * 10\n",
    "        height = len(lines) * 20\n",
    "        \n",
    "        img = Image.new('RGB', (max_width, height), color='white')\n",
    "        draw = ImageDraw.Draw(img)\n",
    "        \n",
    "        for i, line in enumerate(lines):\n",
    "            draw.text((10, i * 20), line, fill='black')\n",
    "        \n",
    "        img.save(\"workflow_diagram.png\")\n",
    "        print(\"✅ ASCII-based PNG exported to: workflow_diagram.png\")\n",
    "        \n",
    "    except Exception as e2:\n",
    "        print(f\"ASCII export also failed: {e2}\")\n",
    "        \n",
    "        # Final fallback: Just save the mermaid text\n",
    "        mermaid_diagram = app.get_graph().draw_mermaid()\n",
    "        with open(\"workflow_diagram.mmd\", \"w\") as f:\n",
    "            f.write(mermaid_diagram)\n",
    "        print(\"✅ Fallback: Mermaid text exported to: workflow_diagram.mmd\")\n",
    "        print(\"💡 To get PNG: Copy .mmd content to https://mermaid.live/ and export\")\n"
   ]
  },
  {
   "cell_type": "code",
   "execution_count": null,
   "metadata": {},
   "outputs": [],
   "source": []
  }
 ],
 "metadata": {
  "kernelspec": {
   "display_name": "Python 3",
   "language": "python",
   "name": "python3"
  },
  "language_info": {
   "codemirror_mode": {
    "name": "ipython",
    "version": 3
   },
   "file_extension": ".py",
   "mimetype": "text/x-python",
   "name": "python",
   "nbconvert_exporter": "python",
   "pygments_lexer": "ipython3",
   "version": "3.13.0"
  }
 },
 "nbformat": 4,
 "nbformat_minor": 2
}
